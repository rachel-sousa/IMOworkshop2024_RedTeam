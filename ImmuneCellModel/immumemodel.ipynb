{
 "cells": [
  {
   "cell_type": "markdown",
   "metadata": {},
   "source": [
    "# Immune Model"
   ]
  },
  {
   "cell_type": "code",
   "execution_count": null,
   "metadata": {
    "init_cell": true
   },
   "outputs": [],
   "source": [
    "import pandas as pd\n",
    "import numpy as np\n",
    "import matplotlib.pyplot as plt\n",
    "import seaborn as sns\n",
    "%matplotlib inline\n",
    "import sys\n",
    "import os\n",
    "import string\n",
    "import pickle\n",
    "from tqdm import tqdm\n",
    "from datetime import datetime\n",
    "\n",
    "from odeModelClass import ODEModel\n",
    "from odeModels import create_model"
   ]
  },
  {
   "cell_type": "markdown",
   "metadata": {},
   "source": [
    "Note the following experiments had the issues listed before Maxi's fix of dividing (params['r_T']*T*M_A*omega) by (1+T)"
   ]
  },
  {
   "cell_type": "markdown",
   "metadata": {},
   "source": [
    "T approaches 0"
   ]
  },
  {
   "cell_type": "code",
   "execution_count": null,
   "metadata": {
    "hidden": true,
    "scrolled": true
   },
   "outputs": [],
   "source": [
    "drug_con = 0.0 #micromol/L\n",
    "immune_model = create_model(\"ImmuneModel\")\n",
    "immune_model.SetParams(C0=10, M_A0=75, M_P0=75, T0=55, K=1000, q_P=1e7, q_A=1e7, \n",
    "                       r_T=1e-5, beta_4=0.8, r_C=0.01, delta_2=0.001, d_1=1e-10,\n",
    "                       alpha_A=1000, alpha_P=1000)\n",
    "immune_model.Simulate(treatmentScheduleList=[[0, 1200, drug_con]])\n",
    "immune_model.Trim(dt=0.5)\n",
    "immune_model.Plot(plotPops=True, legend=True, drugBarPosition=0.99)"
   ]
  },
  {
   "cell_type": "markdown",
   "metadata": {},
   "source": [
    "T approaches infinity"
   ]
  },
  {
   "cell_type": "code",
   "execution_count": null,
   "metadata": {},
   "outputs": [],
   "source": [
    "drug_con = 0.0 #micromol/L\n",
    "immune_model = create_model(\"ImmuneModel\")\n",
    "immune_model.SetParams(C0=10, M_A0=75, M_P0=75, T0=55, K=1000, q_P=1e7, q_A=1e7, r_T=1e-5, beta_4=0.8, r_C=0.01, delta_2=0.001, d_1=1e-10)\n",
    "immune_model.Simulate(treatmentScheduleList=[[0, 810, drug_con]])\n",
    "immune_model.Trim(dt=0.5)\n",
    "immune_model.Plot(plotPops=True, legend=True, drugBarPosition=0.99)"
   ]
  },
  {
   "cell_type": "markdown",
   "metadata": {},
   "source": [
    "T approaches infinity with drug"
   ]
  },
  {
   "cell_type": "code",
   "execution_count": null,
   "metadata": {},
   "outputs": [],
   "source": [
    "drug_con = 0.5 #micromol/L\n",
    "immune_model = create_model(\"ImmuneModel\")\n",
    "immune_model.SetParams(C0=10, M_A0=75, M_P0=75, T0=55, K=1000, q_P=1e4, q_A=1e4, \n",
    "                       r_T=1e-2, beta_4=0.8, r_C=0.01, delta_2=0.001, d_1=1e-10,\n",
    "                       alpha_A=1000, alpha_P=1000)\n",
    "immune_model.Simulate(treatmentScheduleList=[[0, 2800, drug_con]])\n",
    "immune_model.Trim(dt=0.5)\n",
    "immune_model.Plot(plotPops=True, legend=True, drugBarPosition=0.99)"
   ]
  },
  {
   "cell_type": "markdown",
   "metadata": {},
   "source": [
    "presentation"
   ]
  },
  {
   "cell_type": "code",
   "execution_count": null,
   "metadata": {},
   "outputs": [],
   "source": [
    "drug_con = 0.0 #micromol/L\n",
    "immune_model = create_model(\"ImmuneModel\")\n",
    "immune_model.SetParams(C0=10, M_A0=75, M_P0=75, T0=55, K=1000, q_P=1e7, q_A=1e7, r_T=1e-5, beta_4=0.8, r_C=0.01, delta_2=0.001, d_1=1e-10)\n",
    "immune_model.Simulate(treatmentScheduleList=[[0, 500, drug_con]])\n",
    "immune_model.Trim(dt=0.5)\n",
    "immune_model.Plot(plotPops=True, legend=True, drugBarPosition=0.99)"
   ]
  },
  {
   "cell_type": "code",
   "execution_count": null,
   "metadata": {},
   "outputs": [],
   "source": [
    "drug_con = 0.12 #micromol/L\n",
    "immune_model = create_model(\"ImmuneModel\")\n",
    "immune_model.SetParams(C0=10, M_A0=75, M_P0=75, T0=55, K=1000, q_P=1e7, q_A=1e7, r_T=1e-5, beta_4=0.8, r_C=0.01, delta_2=0.001, d_1=1e-10)\n",
    "immune_model.Simulate(treatmentScheduleList=[[0, 1000, drug_con]])\n",
    "immune_model.Trim(dt=0.5)\n",
    "immune_model.Plot(plotPops=True, legend=True, drugBarPosition=0.99)"
   ]
  }
 ],
 "metadata": {
  "celltoolbar": "Initialization Cell",
  "kernelspec": {
   "display_name": "Python 3 (ipykernel)",
   "language": "python",
   "name": "python3"
  },
  "language_info": {
   "codemirror_mode": {
    "name": "ipython",
    "version": 3
   },
   "file_extension": ".py",
   "mimetype": "text/x-python",
   "name": "python",
   "nbconvert_exporter": "python",
   "pygments_lexer": "ipython3",
   "version": "3.12.7"
  },
  "varInspector": {
   "cols": {
    "lenName": 16,
    "lenType": 16,
    "lenVar": 40
   },
   "kernels_config": {
    "python": {
     "delete_cmd_postfix": "",
     "delete_cmd_prefix": "del ",
     "library": "var_list.py",
     "varRefreshCmd": "print(var_dic_list())"
    },
    "r": {
     "delete_cmd_postfix": ") ",
     "delete_cmd_prefix": "rm(",
     "library": "var_list.r",
     "varRefreshCmd": "cat(var_dic_list()) "
    }
   },
   "types_to_exclude": [
    "module",
    "function",
    "builtin_function_or_method",
    "instance",
    "_Feature"
   ],
   "window_display": false
  }
 },
 "nbformat": 4,
 "nbformat_minor": 2
}
